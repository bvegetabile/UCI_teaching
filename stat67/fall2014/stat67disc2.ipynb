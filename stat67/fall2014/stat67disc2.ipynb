{
 "metadata": {
  "name": "",
  "signature": "sha256:c37b202873afc7c5626dd76e0121e2a574b07b598200338dc3210dfc3ed7f9fe"
 },
 "nbformat": 3,
 "nbformat_minor": 0,
 "worksheets": [
  {
   "cells": [
    {
     "cell_type": "markdown",
     "metadata": {},
     "source": [
      "# University of California - Irvine <br /> Statistics 67: Fall 2014 - Discussion 2\n",
      "# Visualizing & Displaying Data\n",
      "\n",
      "Author: Brian Vegetabile"
     ]
    },
    {
     "cell_type": "code",
     "collapsed": false,
     "input": [
      "import numpy as np\n",
      "import scipy\n",
      "\n",
      "import matplotlib.pyplot as plt\n",
      "\n",
      "%matplotlib inline"
     ],
     "language": "python",
     "metadata": {},
     "outputs": [],
     "prompt_number": 2
    },
    {
     "cell_type": "markdown",
     "metadata": {},
     "source": [
      "# Overview\n",
      "\n",
      "In this notebook I give examples of how to summarize and visualize different types of data in both Python and R.  "
     ]
    },
    {
     "cell_type": "markdown",
     "metadata": {},
     "source": [
      "# Dealing with Different Types of Data"
     ]
    },
    {
     "cell_type": "markdown",
     "metadata": {},
     "source": [
      "### Numerical Data\n",
      "\n",
      "In our first class we talked about the types of data.  Remember for numerical data we have the following qualities:\n",
      "\n",
      "   - Those variables where the adding, subtracting, averaging of their values makes sense.\n",
      "   - Types of Numerical:\n",
      "       - Continuous\n",
      "       - Discrete\n",
      "   - Examples of Numerical:\n",
      "       - Continuous - Resistance Measurements using an Ohmmeter\n",
      "       - Discrete - Counts of users online at specific times"
     ]
    },
    {
     "cell_type": "markdown",
     "metadata": {},
     "source": [
      "### Dataset with Continuous Variables\n",
      "\n",
      "Old faithful Dataset\n",
      "\n",
      "Covariates:\n",
      "\n",
      "   - id:  Identifier of the eruption\n",
      "   - eruptions: Eruption time in mins\n",
      "   - waiting: Waiting time until next eruption\n",
      "   - link: http://www.stat.cmu.edu/~larry/all-of-statistics/=data/faithful.dat"
     ]
    },
    {
     "cell_type": "markdown",
     "metadata": {},
     "source": [
      "## How to Load Data\n",
      "\n",
      "A quick aside before we begin looking at any data, we need to get that data into our language of choice.  Below is how you can load data into either Python or R.  As always if you're stuck and things are broken... Ask Google."
     ]
    },
    {
     "cell_type": "markdown",
     "metadata": {},
     "source": [
      "### Loading the data into Python"
     ]
    },
    {
     "cell_type": "code",
     "collapsed": false,
     "input": [
      "oldfaith = np.genfromtxt('oldfaithful.csv', delimiter=',', dtype=None, names=True)"
     ],
     "language": "python",
     "metadata": {},
     "outputs": [],
     "prompt_number": 8
    },
    {
     "cell_type": "markdown",
     "metadata": {},
     "source": [
      "One way to load a csv into python is by the 'genfromtxt' function in the numpy library.  This gives you a numpy object which is convienent for plotting with matplotlib.  If the first row of the csv contains the names of the file, then you can use the \"names=True\" option to bring those in.  This allows indexing by names."
     ]
    },
    {
     "cell_type": "code",
     "collapsed": false,
     "input": [
      "print \"First 5 eruption times: {}\".format(oldfaith['eruptions'][:5])\n",
      "print \"First 5 waiting times:  {}\".format(oldfaith['waiting'][:5])"
     ],
     "language": "python",
     "metadata": {},
     "outputs": [
      {
       "output_type": "stream",
       "stream": "stdout",
       "text": [
        "First 5 eruption times: [ 3.6    1.8    3.333  2.283  4.533]\n",
        "First 5 waiting times:  [79 54 74 62 85]\n"
       ]
      }
     ],
     "prompt_number": 32
    },
    {
     "cell_type": "markdown",
     "metadata": {},
     "source": [
      "### Loading the data into R\n",
      "\n",
      "If you have R Studio installed and you're in the correct working directory with the data, the following commands will allow you to load the data into R.  We will assume you're in this working directory for the rest of this notebook.  The 'head' command (just like in Unix) allows you to see the first few rows of the data frame that was created.  The carat '>' represents commands you can enter at the R command line or put into an R script.\n",
      "\n",
      "    > oldfaith = read.csv('oldfaithful.csv')\n",
      "    > head(oldfaith)\n",
      "      id eruptions waiting\n",
      "    1  1     3.600      79\n",
      "    2  2     1.800      54\n",
      "    3  3     3.333      74\n",
      "    4  4     2.283      62\n",
      "    5  5     4.533      85\n",
      "    6  6     2.883      55\n",
      "\n"
     ]
    },
    {
     "cell_type": "markdown",
     "metadata": {},
     "source": [
      "# Summarizing Numerical Data\n",
      "\n",
      "Before ever looking at any plots, there are some very natural things to look at when you're summarizing data. \n",
      "\n",
      "## Sample Mean\n",
      "\n",
      "The first summary that is always described in basic statistics is the mean of a sample. The sample mean of a numerical variable is computed at the sum of all of the observations divided by the number of observations. '\n",
      "\n",
      "\\begin{eqnarray*}\n",
      "    \\bar x = \\frac{x_1 + x_2 + \\dots + x_n}{n}\n",
      "\\end{eqnarray*}\n",
      "\n",
      "where $x_1, x_2, \\dots, x_n$ represent the observed values.\n",
      "\n",
      "### Sample Mean in Python\n",
      "\n",
      "Let's take a look at the mean eruption time of the dataset...."
     ]
    },
    {
     "cell_type": "code",
     "collapsed": false,
     "input": [
      "eruption_mean = np.mean(oldfaith['eruptions'])\n",
      "print \"\"\"Mean Eruption Time: {0:.3} mins\"\"\".format(eruption_mean)"
     ],
     "language": "python",
     "metadata": {},
     "outputs": [
      {
       "output_type": "stream",
       "stream": "stdout",
       "text": [
        "Mean Eruption Time: 3.49 mins\n"
       ]
      }
     ],
     "prompt_number": 29
    },
    {
     "cell_type": "markdown",
     "metadata": {},
     "source": [
      "### Sample Mean in R\n",
      "\n",
      "    > mean(oldfaith$eruption)\n",
      "    [1] 3.487783\n",
      "    \n",
      "Note: In Python we are accessing the column of eruptions using the brackets oldfaith['eruptions'].  In R, read.csv() returns a dataframe object that allows you to accessing the named columns using the \\$ sign such as oldfaith\\$eruptions"
     ]
    },
    {
     "cell_type": "markdown",
     "metadata": {},
     "source": [
      "## Sample Median\n",
      "\n",
      "The sample median is the observation that is the middle of the data.  If you sort the data from the lowest value to the highest value and there is an odd number of data points, the median is the number exactly in the middle.  If there is an odd number of data points, the median is the average of the two middle numbers.\n",
      "\n",
      "### Sample Median in Python"
     ]
    },
    {
     "cell_type": "code",
     "collapsed": false,
     "input": [
      "eruption_median = np.median(oldfaith['eruptions'])\n",
      "print \"\"\"Median Eruption Time: {0:.3} mins\"\"\".format(eruption_median)"
     ],
     "language": "python",
     "metadata": {},
     "outputs": [
      {
       "output_type": "stream",
       "stream": "stdout",
       "text": [
        " Median Eruption Time: 4.0 mins\n"
       ]
      }
     ],
     "prompt_number": 28
    },
    {
     "cell_type": "markdown",
     "metadata": {},
     "source": [
      "### Sample Median in R\n",
      "\n",
      "    > median(oldfaith$eruptions)\n",
      "    [1] 4"
     ]
    },
    {
     "cell_type": "markdown",
     "metadata": {},
     "source": [
      "## Sample Minimum & Sample Maximum\n",
      "\n",
      "Observing the sample minimum and sample maximum allow you to get an idea of the range of values that you have in your dataset.  This provides insight into potential outliers from the get-go as well as gives an idea of the range of data for which inference will be applicable. \n",
      "\n",
      "### Sample Minimum and Maximum in Python\n",
      "\n"
     ]
    },
    {
     "cell_type": "code",
     "collapsed": false,
     "input": [
      "eruption_min = np.min(oldfaith['eruptions'])\n",
      "eruption_max = np.max(oldfaith['eruptions']) \n",
      "\n",
      "print \"\"\"Minimum Eruption Time: {0:.3}\n",
      "Maximum Eruption Time: {1:.3}\"\"\".format(eruption_min, eruption_max)"
     ],
     "language": "python",
     "metadata": {},
     "outputs": [
      {
       "output_type": "stream",
       "stream": "stdout",
       "text": [
        "Minimum Eruption Time: 1.6\n",
        "Maximum Eruption Time: 5.1\n"
       ]
      }
     ],
     "prompt_number": 31
    },
    {
     "cell_type": "markdown",
     "metadata": {},
     "source": [
      "### Sample Minimum and Maximum in R\n",
      "\n",
      "    > min(oldfaith$eruptions)\n",
      "    [1] 1.6\n",
      "    \n",
      "    > max(oldfaith$eruptions)\n",
      "    [1] 5.1"
     ]
    },
    {
     "cell_type": "markdown",
     "metadata": {},
     "source": [
      "## Putting it all together\n",
      "\n",
      "So why do we care about summary measures of these data? First off, it's usually MUCH faster to obtain summaries of the data than to figure out the best ways to plot that same information.  Finding an intuitive way to make sense of data in a visual way can sometimes be very difficult.  \n",
      "\n",
      "What do these summary measures indicate to us?  By obtaining the median and the mean there can be a rough estimate of whether or not there is skewness in the data.  If the data is unimodal and symmetric, we would see an equal mean and median.  Second we look at the minimum and the maximum to get an idea of the range of the dataset.  We can immediately notice outliers by combining this information with the mean and median.  \n",
      "\n",
      "The idea of summarizing data is to quickly look for anything interesting at this first level of analysis.  \n",
      "\n",
      "### A Quick Aside: An Easier Way to Summarize in R\n",
      "\n",
      "One of the main benefits of R, is that it was built with analyzing data in mind.  In that pursuit there are many functions that make these tasks as easy as one line.  To summarize a dataset in R use the \"summary\" command.  This will summarize both numerical and catagorical data for you.  It's a fast and easy function.\n",
      "\n",
      "    > summary(oldfaith)\n",
      "           id           eruptions        waiting    \n",
      "     Min.   :  1.00   Min.   :1.600   Min.   :43.0  \n",
      "     1st Qu.: 68.75   1st Qu.:2.163   1st Qu.:58.0  \n",
      "     Median :136.50   Median :4.000   Median :76.0  \n",
      "     Mean   :136.50   Mean   :3.488   Mean   :70.9  \n",
      "     3rd Qu.:204.25   3rd Qu.:4.454   3rd Qu.:82.0  \n",
      "     Max.   :272.00   Max.   :5.100   Max.   :96.0  "
     ]
    },
    {
     "cell_type": "markdown",
     "metadata": {},
     "source": [
      "# Visualizing Numerical Data"
     ]
    },
    {
     "cell_type": "markdown",
     "metadata": {},
     "source": [
      "## Histogram"
     ]
    }
   ],
   "metadata": {}
  }
 ]
}